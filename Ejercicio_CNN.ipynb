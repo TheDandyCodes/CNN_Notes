{
  "cells": [
    {
      "cell_type": "markdown",
      "metadata": {
        "id": "view-in-github",
        "colab_type": "text"
      },
      "source": [
        "<a href=\"https://colab.research.google.com/github/TheDandyCodes/CNN_Notes/blob/main/Ejercicio_CNN.ipynb\" target=\"_parent\"><img src=\"https://colab.research.google.com/assets/colab-badge.svg\" alt=\"Open In Colab\"/></a>"
      ]
    },
    {
      "cell_type": "markdown",
      "metadata": {
        "id": "VTN_7vPgqFeG"
      },
      "source": [
        "# Convolutional Neural Networks"
      ]
    },
    {
      "cell_type": "markdown",
      "metadata": {
        "id": "yuciincEqFeI"
      },
      "source": [
        "Realizaremos un ejercicio descrito en el blog www.aprendemachinelearning.com para hacer reconocimiento de imágenes."
      ]
    },
    {
      "cell_type": "code",
      "source": [
        "!wget https://github.com/jbagnato/machine-learning/raw/master/sportimages.zip"
      ],
      "metadata": {
        "id": "UuuYZVSjqMRs",
        "outputId": "b6a74e77-ff43-4b39-ba83-05965481963c",
        "colab": {
          "base_uri": "https://localhost:8080/"
        }
      },
      "execution_count": 3,
      "outputs": [
        {
          "output_type": "stream",
          "name": "stdout",
          "text": [
            "--2024-10-28 19:46:48--  https://github.com/jbagnato/machine-learning/raw/master/sportimages.zip\n",
            "Resolving github.com (github.com)... 140.82.113.4\n",
            "Connecting to github.com (github.com)|140.82.113.4|:443... connected.\n",
            "HTTP request sent, awaiting response... 302 Found\n",
            "Location: https://raw.githubusercontent.com/jbagnato/machine-learning/master/sportimages.zip [following]\n",
            "--2024-10-28 19:46:49--  https://raw.githubusercontent.com/jbagnato/machine-learning/master/sportimages.zip\n",
            "Resolving raw.githubusercontent.com (raw.githubusercontent.com)... 185.199.108.133, 185.199.109.133, 185.199.111.133, ...\n",
            "Connecting to raw.githubusercontent.com (raw.githubusercontent.com)|185.199.108.133|:443... connected.\n",
            "HTTP request sent, awaiting response... 200 OK\n",
            "Length: 62780277 (60M) [application/zip]\n",
            "Saving to: ‘sportimages.zip.1’\n",
            "\n",
            "sportimages.zip.1   100%[===================>]  59.87M   307MB/s    in 0.2s    \n",
            "\n",
            "2024-10-28 19:46:49 (307 MB/s) - ‘sportimages.zip.1’ saved [62780277/62780277]\n",
            "\n"
          ]
        }
      ]
    },
    {
      "cell_type": "code",
      "source": [
        "# prompt: unzip un .zip\n",
        "\n",
        "!unzip sportimages.zip\n"
      ],
      "metadata": {
        "id": "BUMKQT8gqXrz",
        "outputId": "28d43718-0925-46a9-90bf-0685f301777f",
        "colab": {
          "base_uri": "https://localhost:8080/"
        }
      },
      "execution_count": 4,
      "outputs": [
        {
          "output_type": "stream",
          "name": "stdout",
          "text": [
            "Archive:  sportimages.zip\n",
            "replace sportimages/golf/golf_0690.jpg? [y]es, [n]o, [A]ll, [N]one, [r]ename: "
          ]
        }
      ]
    },
    {
      "cell_type": "markdown",
      "metadata": {
        "id": "jbdz4YKoqFeJ"
      },
      "source": [
        "# Importar Librerías"
      ]
    },
    {
      "cell_type": "code",
      "execution_count": 5,
      "metadata": {
        "ExecuteTime": {
          "end_time": "2018-11-08T00:12:59.231970Z",
          "start_time": "2018-11-08T00:12:51.800950Z"
        },
        "id": "pPbNbe2aqFeJ"
      },
      "outputs": [],
      "source": [
        "import numpy as np\n",
        "import os\n",
        "import re\n",
        "import matplotlib.pyplot as plt\n",
        "%matplotlib inline\n",
        "from sklearn.model_selection import train_test_split\n",
        "from sklearn.metrics import classification_report"
      ]
    },
    {
      "cell_type": "code",
      "source": [
        "!pip install keras"
      ],
      "metadata": {
        "id": "XvdmrKCgrUfz",
        "outputId": "5f80c70e-0c3b-4d5f-9b4e-4151eac8c8e0",
        "colab": {
          "base_uri": "https://localhost:8080/"
        }
      },
      "execution_count": 7,
      "outputs": [
        {
          "output_type": "stream",
          "name": "stdout",
          "text": [
            "Requirement already satisfied: keras in /usr/local/lib/python3.10/dist-packages (3.4.1)\n",
            "Requirement already satisfied: absl-py in /usr/local/lib/python3.10/dist-packages (from keras) (1.4.0)\n",
            "Requirement already satisfied: numpy in /usr/local/lib/python3.10/dist-packages (from keras) (1.26.4)\n",
            "Requirement already satisfied: rich in /usr/local/lib/python3.10/dist-packages (from keras) (13.9.3)\n",
            "Requirement already satisfied: namex in /usr/local/lib/python3.10/dist-packages (from keras) (0.0.8)\n",
            "Requirement already satisfied: h5py in /usr/local/lib/python3.10/dist-packages (from keras) (3.11.0)\n",
            "Requirement already satisfied: optree in /usr/local/lib/python3.10/dist-packages (from keras) (0.13.0)\n",
            "Requirement already satisfied: ml-dtypes in /usr/local/lib/python3.10/dist-packages (from keras) (0.4.1)\n",
            "Requirement already satisfied: packaging in /usr/local/lib/python3.10/dist-packages (from keras) (24.1)\n",
            "Requirement already satisfied: typing-extensions>=4.5.0 in /usr/local/lib/python3.10/dist-packages (from optree->keras) (4.12.2)\n",
            "Requirement already satisfied: markdown-it-py>=2.2.0 in /usr/local/lib/python3.10/dist-packages (from rich->keras) (3.0.0)\n",
            "Requirement already satisfied: pygments<3.0.0,>=2.13.0 in /usr/local/lib/python3.10/dist-packages (from rich->keras) (2.18.0)\n",
            "Requirement already satisfied: mdurl~=0.1 in /usr/local/lib/python3.10/dist-packages (from markdown-it-py>=2.2.0->rich->keras) (0.1.2)\n"
          ]
        }
      ]
    },
    {
      "source": [
        "# Instead of importing from keras.layers.normalization:\n",
        "# from keras.layers.normalization import BatchNormalization\n",
        "\n",
        "# Import BatchNormalization directly from keras.layers:\n",
        "from keras.layers import BatchNormalization, LeakyReLU\n",
        "from keras.utils import to_categorical\n",
        "from keras import Sequential, Model\n",
        "from tensorflow.keras import Input\n",
        "from keras.layers import Dense, Dropout, Flatten\n",
        "from keras.layers import Conv2D, MaxPooling2D"
      ],
      "cell_type": "code",
      "metadata": {
        "id": "UaZygxqrr_Dh"
      },
      "execution_count": 23,
      "outputs": []
    },
    {
      "cell_type": "markdown",
      "metadata": {
        "id": "70OY_VyXqFeM"
      },
      "source": [
        "# Cargar set de Imágenes"
      ]
    },
    {
      "cell_type": "code",
      "execution_count": 9,
      "metadata": {
        "ExecuteTime": {
          "end_time": "2018-11-08T00:16:45.248080Z",
          "start_time": "2018-11-08T00:13:12.553292Z"
        },
        "scrolled": true,
        "id": "eRLBa1qMqFeM",
        "outputId": "1a565635-497d-4211-a35d-41cebc02e699",
        "colab": {
          "base_uri": "https://localhost:8080/"
        }
      },
      "outputs": [
        {
          "output_type": "stream",
          "name": "stdout",
          "text": [
            "leyendo imagenes de  /content/sportimages/\n",
            "/content/sportimages/tenis 1\n",
            "/content/sportimages/beisball 8937\n",
            "/content/sportimages/futbol 7752\n",
            "/content/sportimages/natacion 7617\n",
            "/content/sportimages/f1 5172\n",
            "/content/sportimages/boxeo 5053\n",
            "/content/sportimages/ciclismo 7125\n",
            "/content/sportimages/golf 7533\n",
            "/content/sportimages/basket 9768\n",
            "/content/sportimages/americano 8823\n",
            "Directorios leidos: 10\n",
            "Imagenes en cada directorio [8938, 7752, 7617, 5172, 5053, 7125, 7533, 9768, 8823, 9347]\n",
            "suma Total de imagenes en subdirs: 77128\n"
          ]
        }
      ],
      "source": [
        "dirname = os.path.join(os.getcwd(), 'sportimages')\n",
        "imgpath = dirname + os.sep\n",
        "\n",
        "images = []\n",
        "directories = []\n",
        "dircount = []\n",
        "prevRoot=''\n",
        "cant=0\n",
        "\n",
        "print(\"leyendo imagenes de \",imgpath)\n",
        "\n",
        "for root, dirnames, filenames in os.walk(imgpath):\n",
        "    for filename in filenames:\n",
        "        if re.search(\"\\.(jpg|jpeg|png|bmp|tiff)$\", filename):\n",
        "            cant=cant+1\n",
        "            filepath = os.path.join(root, filename)\n",
        "            image = plt.imread(filepath)\n",
        "            images.append(image)\n",
        "            b = \"Leyendo...\" + str(cant)\n",
        "            print (b, end=\"\\r\")\n",
        "            if prevRoot !=root:\n",
        "                print(root, cant)\n",
        "                prevRoot=root\n",
        "                directories.append(root)\n",
        "                dircount.append(cant)\n",
        "                cant=0\n",
        "dircount.append(cant)\n",
        "\n",
        "dircount = dircount[1:]\n",
        "dircount[0]=dircount[0]+1\n",
        "print('Directorios leidos:',len(directories))\n",
        "print(\"Imagenes en cada directorio\", dircount)\n",
        "print('suma Total de imagenes en subdirs:',sum(dircount))"
      ]
    },
    {
      "cell_type": "markdown",
      "metadata": {
        "id": "f_i6oMyvqFeN"
      },
      "source": [
        "# Creamos las etiquetas"
      ]
    },
    {
      "cell_type": "code",
      "execution_count": 10,
      "metadata": {
        "ExecuteTime": {
          "end_time": "2018-11-08T00:16:45.269861Z",
          "start_time": "2018-11-08T00:16:45.251786Z"
        },
        "id": "7x_pPcViqFeN",
        "outputId": "8d92ae78-d42a-44d7-a45f-959dae8eaf38",
        "colab": {
          "base_uri": "https://localhost:8080/"
        }
      },
      "outputs": [
        {
          "output_type": "stream",
          "name": "stdout",
          "text": [
            "Cantidad etiquetas creadas:  77128\n"
          ]
        }
      ],
      "source": [
        "labels=[]\n",
        "indice=0\n",
        "for cantidad in dircount:\n",
        "    for i in range(cantidad):\n",
        "        labels.append(indice)\n",
        "    indice=indice+1\n",
        "print(\"Cantidad etiquetas creadas: \",len(labels))"
      ]
    },
    {
      "cell_type": "code",
      "execution_count": 11,
      "metadata": {
        "ExecuteTime": {
          "end_time": "2018-11-08T00:16:45.285925Z",
          "start_time": "2018-11-08T00:16:45.273489Z"
        },
        "id": "Lb2G48JcqFeO",
        "outputId": "4386c14a-55ec-447b-99c6-a99266a7aa69",
        "colab": {
          "base_uri": "https://localhost:8080/"
        }
      },
      "outputs": [
        {
          "output_type": "stream",
          "name": "stdout",
          "text": [
            "0 tenis\n",
            "1 beisball\n",
            "2 futbol\n",
            "3 natacion\n",
            "4 f1\n",
            "5 boxeo\n",
            "6 ciclismo\n",
            "7 golf\n",
            "8 basket\n",
            "9 americano\n"
          ]
        }
      ],
      "source": [
        "deportes=[]\n",
        "indice=0\n",
        "for directorio in directories:\n",
        "    name = directorio.split(os.sep)\n",
        "    print(indice , name[len(name)-1])\n",
        "    deportes.append(name[len(name)-1])\n",
        "    indice=indice+1"
      ]
    },
    {
      "cell_type": "code",
      "execution_count": 12,
      "metadata": {
        "ExecuteTime": {
          "end_time": "2018-11-08T00:16:45.498672Z",
          "start_time": "2018-11-08T00:16:45.290061Z"
        },
        "id": "14H9Rer5qFeO",
        "outputId": "98cde30d-fb2c-41c0-8791-59a224052110",
        "colab": {
          "base_uri": "https://localhost:8080/"
        }
      },
      "outputs": [
        {
          "output_type": "stream",
          "name": "stdout",
          "text": [
            "Total number of outputs :  10\n",
            "Output classes :  [0 1 2 3 4 5 6 7 8 9]\n"
          ]
        }
      ],
      "source": [
        "y = np.array(labels)\n",
        "X = np.array(images, dtype=np.uint8) #convierto de lista a numpy\n",
        "\n",
        "# Find the unique numbers from the train labels\n",
        "classes = np.unique(y)\n",
        "nClasses = len(classes)\n",
        "print('Total number of outputs : ', nClasses)\n",
        "print('Output classes : ', classes)"
      ]
    },
    {
      "cell_type": "markdown",
      "metadata": {
        "id": "AGoA9dziqFeO"
      },
      "source": [
        "# Creamos Sets de Entrenamiento y Test"
      ]
    },
    {
      "cell_type": "code",
      "execution_count": 13,
      "metadata": {
        "ExecuteTime": {
          "end_time": "2018-11-08T00:16:45.669596Z",
          "start_time": "2018-11-08T00:16:45.502716Z"
        },
        "id": "O78sKim3qFeO",
        "outputId": "fea9c064-faeb-4f3f-ca9a-5893404da0a1",
        "colab": {
          "base_uri": "https://localhost:8080/"
        }
      },
      "outputs": [
        {
          "output_type": "stream",
          "name": "stdout",
          "text": [
            "Training data shape :  (61702, 21, 28, 3) (61702,)\n",
            "Testing data shape :  (15426, 21, 28, 3) (15426,)\n"
          ]
        }
      ],
      "source": [
        "train_X,test_X,train_Y,test_Y = train_test_split(X,y,test_size=0.2)\n",
        "print('Training data shape : ', train_X.shape, train_Y.shape)\n",
        "print('Testing data shape : ', test_X.shape, test_Y.shape)"
      ]
    },
    {
      "cell_type": "code",
      "execution_count": 14,
      "metadata": {
        "ExecuteTime": {
          "end_time": "2018-11-08T00:16:49.319746Z",
          "start_time": "2018-11-08T00:16:45.673944Z"
        },
        "id": "6RPyhItnqFeP",
        "outputId": "5997bcd5-43f3-4565-fbe3-42f2a354eda8",
        "colab": {
          "base_uri": "https://localhost:8080/",
          "height": 232
        }
      },
      "outputs": [
        {
          "output_type": "execute_result",
          "data": {
            "text/plain": [
              "Text(0.5, 1.0, 'Ground Truth : 5')"
            ]
          },
          "metadata": {},
          "execution_count": 14
        },
        {
          "output_type": "display_data",
          "data": {
            "text/plain": [
              "<Figure size 500x500 with 2 Axes>"
            ],
            "image/png": "[encoded data removed]"
          },
          "metadata": {}
        }
      ],
      "source": [
        "plt.figure(figsize=[5,5])\n",
        "\n",
        "# Display the first image in training data\n",
        "plt.subplot(121)\n",
        "plt.imshow(train_X[0,:,:], cmap='gray')\n",
        "plt.title(\"Ground Truth : {}\".format(train_Y[0]))\n",
        "\n",
        "# Display the first image in testing data\n",
        "plt.subplot(122)\n",
        "plt.imshow(test_X[0,:,:], cmap='gray')\n",
        "plt.title(\"Ground Truth : {}\".format(test_Y[0]))"
      ]
    },
    {
      "cell_type": "code",
      "source": [
        "import tensorflow as tf\n",
        "assert tf.__version__>=\"2.0\"\n",
        "gpus_list = tf.config.list_physical_devices('GPU')\n",
        "if not gpus_list:\n",
        "  print('No GPUs detected')\n",
        "else:\n",
        "  print(tf.config.list_physical_devices('GPU'))"
      ],
      "metadata": {
        "id": "chap-yj8wjxt",
        "outputId": "b276b294-51f7-4e02-e776-2f846714acbb",
        "colab": {
          "base_uri": "https://localhost:8080/"
        }
      },
      "execution_count": 1,
      "outputs": [
        {
          "output_type": "stream",
          "name": "stdout",
          "text": [
            "[PhysicalDevice(name='/physical_device:GPU:0', device_type='GPU')]\n"
          ]
        }
      ]
    },
    {
      "cell_type": "markdown",
      "metadata": {
        "id": "B663NYgCqFeP"
      },
      "source": [
        "# Preprocesamos las imagenes"
      ]
    },
    {
      "cell_type": "code",
      "execution_count": 15,
      "metadata": {
        "ExecuteTime": {
          "end_time": "2018-11-08T00:16:50.798162Z",
          "start_time": "2018-11-08T00:16:49.322999Z"
        },
        "id": "HnwnimeZqFeP"
      },
      "outputs": [],
      "source": [
        "train_X = train_X.astype('float32')\n",
        "test_X = test_X.astype('float32')\n",
        "train_X = train_X / 255.\n",
        "test_X = test_X / 255."
      ]
    },
    {
      "cell_type": "markdown",
      "metadata": {
        "id": "TWytB7dFqFeP"
      },
      "source": [
        "## Hacemos el One-hot Encoding para la red"
      ]
    },
    {
      "cell_type": "code",
      "execution_count": 16,
      "metadata": {
        "ExecuteTime": {
          "end_time": "2018-11-08T00:16:50.815482Z",
          "start_time": "2018-11-08T00:16:50.800831Z"
        },
        "id": "2DnQOxSlqFeP",
        "outputId": "4fcd0e1b-cecb-420b-baf7-58feaf233af0",
        "colab": {
          "base_uri": "https://localhost:8080/"
        }
      },
      "outputs": [
        {
          "output_type": "stream",
          "name": "stdout",
          "text": [
            "Original label: 1\n",
            "After conversion to one-hot: [0. 1. 0. 0. 0. 0. 0. 0. 0. 0.]\n"
          ]
        }
      ],
      "source": [
        "# Change the labels from categorical to one-hot encoding\n",
        "train_Y_one_hot = to_categorical(train_Y)\n",
        "test_Y_one_hot = to_categorical(test_Y)\n",
        "\n",
        "# Display the change for category label using one-hot encoding\n",
        "print('Original label:', train_Y[0])\n",
        "print('After conversion to one-hot:', train_Y_one_hot[0])"
      ]
    },
    {
      "cell_type": "markdown",
      "metadata": {
        "id": "uMWqhAnZqFeP"
      },
      "source": [
        "# Creamos el Set de Entrenamiento y Validación"
      ]
    },
    {
      "cell_type": "code",
      "execution_count": 17,
      "metadata": {
        "ExecuteTime": {
          "end_time": "2018-11-08T00:16:51.218520Z",
          "start_time": "2018-11-08T00:16:50.818992Z"
        },
        "id": "Jhj9B6v3qFeP"
      },
      "outputs": [],
      "source": [
        "#Mezclar todo y crear los grupos de entrenamiento y testing\n",
        "train_X,valid_X,train_label,valid_label = train_test_split(train_X, train_Y_one_hot, test_size=0.2, random_state=13)"
      ]
    },
    {
      "cell_type": "code",
      "execution_count": 18,
      "metadata": {
        "ExecuteTime": {
          "end_time": "2018-11-08T00:16:51.228116Z",
          "start_time": "2018-11-08T00:16:51.222460Z"
        },
        "id": "DrTQ4RP9qFeQ",
        "outputId": "52195b49-826d-4a4d-989b-101fd7ea579f",
        "colab": {
          "base_uri": "https://localhost:8080/"
        }
      },
      "outputs": [
        {
          "output_type": "stream",
          "name": "stdout",
          "text": [
            "(49361, 21, 28, 3) (12341, 21, 28, 3) (49361, 10) (12341, 10)\n"
          ]
        }
      ],
      "source": [
        "print(train_X.shape,valid_X.shape,train_label.shape,valid_label.shape)"
      ]
    },
    {
      "cell_type": "markdown",
      "metadata": {
        "id": "tkIrbVFdqFeQ"
      },
      "source": [
        "# Creamos el modelo de CNN"
      ]
    },
    {
      "cell_type": "code",
      "execution_count": 19,
      "metadata": {
        "ExecuteTime": {
          "end_time": "2018-11-08T00:16:51.244776Z",
          "start_time": "2018-11-08T00:16:51.238704Z"
        },
        "id": "GUe6iLwFqFeQ"
      },
      "outputs": [],
      "source": [
        "#declaramos variables con los parámetros de configuración de la red\n",
        "INIT_LR = 1e-3 # Valor inicial de learning rate. El valor 1e-3 corresponde con 0.001\n",
        "epochs = 6 # Cantidad de iteraciones completas al conjunto de imagenes de entrenamiento\n",
        "batch_size = 64 # cantidad de imágenes que se toman a la vez en memoria"
      ]
    },
    {
      "cell_type": "code",
      "execution_count": 20,
      "metadata": {
        "ExecuteTime": {
          "end_time": "2018-11-08T00:16:51.384131Z",
          "start_time": "2018-11-08T00:16:51.252188Z"
        },
        "id": "-FAlMTskqFeQ",
        "outputId": "6db8a2a2-375d-474a-9500-1d3deb22a5d7",
        "colab": {
          "base_uri": "https://localhost:8080/",
          "height": 211
        }
      },
      "outputs": [
        {
          "output_type": "error",
          "ename": "NameError",
          "evalue": "name 'Conv2D' is not defined",
          "traceback": [
            "\u001b[0;31m---------------------------------------------------------------------------\u001b[0m",
            "\u001b[0;31mNameError\u001b[0m                                 Traceback (most recent call last)",
            "\u001b[0;32m<ipython-input-20-47ccb626b918>\u001b[0m in \u001b[0;36m<cell line: 2>\u001b[0;34m()\u001b[0m\n\u001b[1;32m      1\u001b[0m \u001b[0msport_model\u001b[0m \u001b[0;34m=\u001b[0m \u001b[0mSequential\u001b[0m\u001b[0;34m(\u001b[0m\u001b[0;34m)\u001b[0m\u001b[0;34m\u001b[0m\u001b[0;34m\u001b[0m\u001b[0m\n\u001b[0;32m----> 2\u001b[0;31m \u001b[0msport_model\u001b[0m\u001b[0;34m.\u001b[0m\u001b[0madd\u001b[0m\u001b[0;34m(\u001b[0m\u001b[0mConv2D\u001b[0m\u001b[0;34m(\u001b[0m\u001b[0;36m32\u001b[0m\u001b[0;34m,\u001b[0m \u001b[0mkernel_size\u001b[0m\u001b[0;34m=\u001b[0m\u001b[0;34m(\u001b[0m\u001b[0;36m3\u001b[0m\u001b[0;34m,\u001b[0m \u001b[0;36m3\u001b[0m\u001b[0;34m)\u001b[0m\u001b[0;34m,\u001b[0m\u001b[0mactivation\u001b[0m\u001b[0;34m=\u001b[0m\u001b[0;34m'linear'\u001b[0m\u001b[0;34m,\u001b[0m\u001b[0mpadding\u001b[0m\u001b[0;34m=\u001b[0m\u001b[0;34m'same'\u001b[0m\u001b[0;34m,\u001b[0m\u001b[0minput_shape\u001b[0m\u001b[0;34m=\u001b[0m\u001b[0;34m(\u001b[0m\u001b[0;36m21\u001b[0m\u001b[0;34m,\u001b[0m\u001b[0;36m28\u001b[0m\u001b[0;34m,\u001b[0m\u001b[0;36m3\u001b[0m\u001b[0;34m)\u001b[0m\u001b[0;34m)\u001b[0m\u001b[0;34m)\u001b[0m\u001b[0;34m\u001b[0m\u001b[0;34m\u001b[0m\u001b[0m\n\u001b[0m\u001b[1;32m      3\u001b[0m \u001b[0msport_model\u001b[0m\u001b[0;34m.\u001b[0m\u001b[0madd\u001b[0m\u001b[0;34m(\u001b[0m\u001b[0mLeakyReLU\u001b[0m\u001b[0;34m(\u001b[0m\u001b[0malpha\u001b[0m\u001b[0;34m=\u001b[0m\u001b[0;36m0.1\u001b[0m\u001b[0;34m)\u001b[0m\u001b[0;34m)\u001b[0m\u001b[0;34m\u001b[0m\u001b[0;34m\u001b[0m\u001b[0m\n\u001b[1;32m      4\u001b[0m \u001b[0msport_model\u001b[0m\u001b[0;34m.\u001b[0m\u001b[0madd\u001b[0m\u001b[0;34m(\u001b[0m\u001b[0mMaxPooling2D\u001b[0m\u001b[0;34m(\u001b[0m\u001b[0;34m(\u001b[0m\u001b[0;36m2\u001b[0m\u001b[0;34m,\u001b[0m \u001b[0;36m2\u001b[0m\u001b[0;34m)\u001b[0m\u001b[0;34m,\u001b[0m\u001b[0mpadding\u001b[0m\u001b[0;34m=\u001b[0m\u001b[0;34m'same'\u001b[0m\u001b[0;34m)\u001b[0m\u001b[0;34m)\u001b[0m\u001b[0;34m\u001b[0m\u001b[0;34m\u001b[0m\u001b[0m\n\u001b[1;32m      5\u001b[0m \u001b[0msport_model\u001b[0m\u001b[0;34m.\u001b[0m\u001b[0madd\u001b[0m\u001b[0;34m(\u001b[0m\u001b[0mDropout\u001b[0m\u001b[0;34m(\u001b[0m\u001b[0;36m0.5\u001b[0m\u001b[0;34m)\u001b[0m\u001b[0;34m)\u001b[0m\u001b[0;34m\u001b[0m\u001b[0;34m\u001b[0m\u001b[0m\n",
            "\u001b[0;31mNameError\u001b[0m: name 'Conv2D' is not defined"
          ]
        }
      ],
      "source": [
        "sport_model = Sequential()\n",
        "sport_model.add(Conv2D(32, kernel_size=(3, 3),activation='linear',padding='same',input_shape=(21,28,3)))\n",
        "sport_model.add(LeakyReLU(alpha=0.1))\n",
        "sport_model.add(MaxPooling2D((2, 2),padding='same'))\n",
        "sport_model.add(Dropout(0.5))\n",
        "\n",
        "sport_model.add(Flatten())\n",
        "sport_model.add(Dense(32, activation='linear'))\n",
        "sport_model.add(LeakyReLU(alpha=0.1))\n",
        "sport_model.add(Dropout(0.5))\n",
        "sport_model.add(Dense(nClasses, activation='softmax'))"
      ]
    },
    {
      "cell_type": "code",
      "execution_count": null,
      "metadata": {
        "ExecuteTime": {
          "end_time": "2018-11-08T00:16:51.401674Z",
          "start_time": "2018-11-08T00:16:51.386676Z"
        },
        "id": "kNcoS5_XqFeQ"
      },
      "outputs": [],
      "source": [
        "sport_model.summary()"
      ]
    },
    {
      "cell_type": "code",
      "execution_count": null,
      "metadata": {
        "ExecuteTime": {
          "end_time": "2018-11-08T00:16:51.472349Z",
          "start_time": "2018-11-08T00:16:51.406817Z"
        },
        "id": "14F4NZIYqFeQ"
      },
      "outputs": [],
      "source": [
        "sport_model.compile(loss=keras.losses.categorical_crossentropy, optimizer=keras.optimizers.Adagrad(lr=INIT_LR, decay=INIT_LR / 100),metrics=['accuracy'])"
      ]
    },
    {
      "cell_type": "markdown",
      "metadata": {
        "id": "Bnej2hK6qFeQ"
      },
      "source": [
        "# Entrenamos el modelo: Aprende a clasificar imágenes"
      ]
    },
    {
      "cell_type": "code",
      "execution_count": null,
      "metadata": {
        "ExecuteTime": {
          "end_time": "2018-11-08T00:20:49.562522Z",
          "start_time": "2018-11-08T00:16:51.474807Z"
        },
        "id": "dyeCKVF7qFeQ"
      },
      "outputs": [],
      "source": [
        "# este paso puede tomar varios minutos, dependiendo de tu ordenador, cpu y memoria ram libre\n",
        "# como ejemplo, en mi Macbook pro tarda 4 minutos\n",
        "sport_train = sport_model.fit(train_X, train_label, batch_size=batch_size,epochs=epochs,verbose=1,validation_data=(valid_X, valid_label))"
      ]
    },
    {
      "cell_type": "code",
      "execution_count": null,
      "metadata": {
        "ExecuteTime": {
          "end_time": "2018-11-08T00:20:49.676566Z",
          "start_time": "2018-11-08T00:20:49.566203Z"
        },
        "id": "hy-NfFkoqFeQ"
      },
      "outputs": [],
      "source": [
        "# guardamos la red, para reutilizarla en el futuro, sin tener que volver a entrenar\n",
        "sport_model.save(\"sports_mnist.h5py\")"
      ]
    },
    {
      "cell_type": "markdown",
      "metadata": {
        "id": "vam7MqorqFeQ"
      },
      "source": [
        "# Evaluamos la red"
      ]
    },
    {
      "cell_type": "code",
      "execution_count": null,
      "metadata": {
        "ExecuteTime": {
          "end_time": "2018-11-08T00:20:54.462929Z",
          "start_time": "2018-11-08T00:20:49.678643Z"
        },
        "id": "vfykcHfYqFeQ"
      },
      "outputs": [],
      "source": [
        "test_eval = sport_model.evaluate(test_X, test_Y_one_hot, verbose=1)"
      ]
    },
    {
      "cell_type": "code",
      "execution_count": null,
      "metadata": {
        "ExecuteTime": {
          "end_time": "2018-11-08T00:20:54.474683Z",
          "start_time": "2018-11-08T00:20:54.465378Z"
        },
        "id": "svvIXS6nqFeQ"
      },
      "outputs": [],
      "source": [
        "print('Test loss:', test_eval[0])\n",
        "print('Test accuracy:', test_eval[1])"
      ]
    },
    {
      "cell_type": "code",
      "execution_count": null,
      "metadata": {
        "ExecuteTime": {
          "end_time": "2018-11-08T00:20:55.014647Z",
          "start_time": "2018-11-08T00:20:54.479693Z"
        },
        "scrolled": false,
        "id": "ZYvZaTuGqFeR"
      },
      "outputs": [],
      "source": [
        "accuracy = sport_train.history['acc']\n",
        "val_accuracy = sport_train.history['val_acc']\n",
        "loss = sport_train.history['loss']\n",
        "val_loss = sport_train.history['val_loss']\n",
        "epochs = range(len(accuracy))\n",
        "plt.plot(epochs, accuracy, 'bo', label='Training accuracy')\n",
        "plt.plot(epochs, val_accuracy, 'b', label='Validation accuracy')\n",
        "plt.title('Training and validation accuracy')\n",
        "plt.legend()\n",
        "plt.figure()\n",
        "plt.plot(epochs, loss, 'bo', label='Training loss')\n",
        "plt.plot(epochs, val_loss, 'b', label='Validation loss')\n",
        "plt.title('Training and validation loss')\n",
        "plt.legend()\n",
        "plt.show()"
      ]
    },
    {
      "cell_type": "code",
      "execution_count": null,
      "metadata": {
        "ExecuteTime": {
          "end_time": "2018-11-08T00:20:58.050602Z",
          "start_time": "2018-11-08T00:20:55.021862Z"
        },
        "id": "qhGuUmJpqFeR"
      },
      "outputs": [],
      "source": [
        "predicted_classes2 = sport_model.predict(test_X)"
      ]
    },
    {
      "cell_type": "code",
      "execution_count": null,
      "metadata": {
        "ExecuteTime": {
          "end_time": "2018-11-08T00:20:58.262575Z",
          "start_time": "2018-11-08T00:20:58.052878Z"
        },
        "id": "80FdVW8wqFeR"
      },
      "outputs": [],
      "source": [
        "predicted_classes=[]\n",
        "for predicted_sport in predicted_classes2:\n",
        "    predicted_classes.append(predicted_sport.tolist().index(max(predicted_sport)))\n",
        "predicted_classes=np.array(predicted_classes)"
      ]
    },
    {
      "cell_type": "code",
      "execution_count": null,
      "metadata": {
        "ExecuteTime": {
          "end_time": "2018-11-08T00:20:58.272559Z",
          "start_time": "2018-11-08T00:20:58.264703Z"
        },
        "id": "uZVBhGzAqFeR"
      },
      "outputs": [],
      "source": [
        "predicted_classes.shape, test_Y.shape"
      ]
    },
    {
      "cell_type": "markdown",
      "metadata": {
        "id": "MlFLAdPsqFeR"
      },
      "source": [
        "# Aprendamos de los errores: Qué mejorar"
      ]
    },
    {
      "cell_type": "code",
      "execution_count": null,
      "metadata": {
        "ExecuteTime": {
          "end_time": "2018-11-08T00:20:59.822110Z",
          "start_time": "2018-11-08T00:20:58.275464Z"
        },
        "id": "eUX8fW3nqFeR"
      },
      "outputs": [],
      "source": [
        "correct = np.where(predicted_classes==test_Y)[0]\n",
        "print(\"Found %d correct labels\" % len(correct))\n",
        "for i, correct in enumerate(correct[0:9]):\n",
        "    plt.subplot(3,3,i+1)\n",
        "    plt.imshow(test_X[correct].reshape(21,28,3), cmap='gray', interpolation='none')\n",
        "    plt.title(\"{}, {}\".format(deportes[predicted_classes[correct]],\n",
        "                                                    deportes[test_Y[correct]]))\n",
        "\n",
        "    plt.tight_layout()"
      ]
    },
    {
      "cell_type": "code",
      "execution_count": null,
      "metadata": {
        "ExecuteTime": {
          "end_time": "2018-11-08T00:21:00.942267Z",
          "start_time": "2018-11-08T00:20:59.829572Z"
        },
        "id": "7pl8GFMyqFeR"
      },
      "outputs": [],
      "source": [
        "incorrect = np.where(predicted_classes!=test_Y)[0]\n",
        "print(\"Found %d incorrect labels\" % len(incorrect))\n",
        "for i, incorrect in enumerate(incorrect[0:9]):\n",
        "    plt.subplot(3,3,i+1)\n",
        "    plt.imshow(test_X[incorrect].reshape(21,28,3), cmap='gray', interpolation='none')\n",
        "    plt.title(\"{}, {}\".format(deportes[predicted_classes[incorrect]],\n",
        "                                                    deportes[test_Y[incorrect]]))\n",
        "    plt.tight_layout()"
      ]
    },
    {
      "cell_type": "code",
      "execution_count": null,
      "metadata": {
        "ExecuteTime": {
          "end_time": "2018-11-08T00:21:00.968727Z",
          "start_time": "2018-11-08T00:21:00.947262Z"
        },
        "id": "L56Iy5B9qFeS"
      },
      "outputs": [],
      "source": [
        "target_names = [\"Class {}\".format(i) for i in range(nClasses)]\n",
        "print(classification_report(test_Y, predicted_classes, target_names=target_names))"
      ]
    },
    {
      "cell_type": "markdown",
      "metadata": {
        "id": "f5svXWeiqFeS"
      },
      "source": [
        "# Prediccion de una nueva imagen"
      ]
    },
    {
      "cell_type": "code",
      "execution_count": null,
      "metadata": {
        "id": "3vCRmmVNqFeS"
      },
      "outputs": [],
      "source": [
        "from skimage.transform import resize\n",
        "\n",
        "images=[]\n",
        "# AQUI ESPECIFICAMOS UNAS IMAGENES\n",
        "filenames = ['test/golf_0113.jpg']\n",
        "\n",
        "for filepath in filenames:\n",
        "    image = plt.imread(filepath,0)\n",
        "    image_resized = resize(image, (21, 28),anti_aliasing=True,clip=False,preserve_range=True)\n",
        "    images.append(image_resized)\n",
        "\n",
        "X = np.array(images, dtype=np.uint8) #convierto de lista a numpy\n",
        "test_X = X.astype('float32')\n",
        "test_X = test_X / 255.\n",
        "\n",
        "predicted_classes = sport_model.predict(test_X)\n",
        "\n",
        "for i, img_tagged in enumerate(predicted_classes):\n",
        "    print(filenames[i], deportes[img_tagged.tolist().index(max(img_tagged))])"
      ]
    }
  ],
  "metadata": {
    "kernelspec": {
      "display_name": "Python 3",
      "name": "python3"
    },
    "language_info": {
      "codemirror_mode": {
        "name": "ipython",
        "version": 3
      },
      "file_extension": ".py",
      "mimetype": "text/x-python",
      "name": "python",
      "nbconvert_exporter": "python",
      "pygments_lexer": "ipython3",
      "version": "3.6.7"
    },
    "colab": {
      "provenance": [],
      "gpuType": "T4",
      "include_colab_link": true
    },
    "accelerator": "GPU"
  },
  "nbformat": 4,
  "nbformat_minor": 0
}